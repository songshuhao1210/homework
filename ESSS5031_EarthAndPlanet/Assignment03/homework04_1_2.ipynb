{
 "cells": [
  {
   "cell_type": "markdown",
   "id": "690c8748",
   "metadata": {},
   "source": [
    "# Ideal solution model Olivine to Wadsleyite"
   ]
  },
  {
   "cell_type": "code",
   "execution_count": 1,
   "id": "5a874307",
   "metadata": {},
   "outputs": [],
   "source": [
    "import numpy as np\n",
    "import matplotlib.pyplot as plt"
   ]
  },
  {
   "cell_type": "code",
   "execution_count": 2,
   "id": "c52047b8",
   "metadata": {},
   "outputs": [],
   "source": [
    "T = 1800            # K\n",
    "X = np.arange(0,0.31,0.01)"
   ]
  },
  {
   "cell_type": "code",
   "execution_count": 3,
   "id": "04e380ad",
   "metadata": {},
   "outputs": [],
   "source": [
    "def calculate_P(T,X):\n",
    "    # Mg2SiO4\n",
    "    dH_A = 27.1e+3\n",
    "    dS_A = -9\n",
    "    dV_A = -3.16e-6\n",
    "    # Fe2SiO4\n",
    "    dH_B = 9.6e+3\n",
    "    dS_B = -10.9\n",
    "    dV_B = -3.2e-6\n",
    "    \n",
    "    dH = X*dH_B + (1-X)*dH_A\n",
    "    dS = X*dS_B + (1-X)*dS_A\n",
    "    dV = X*dV_B + (1-X)*dV_A\n",
    "    \n",
    "    P = (T*dS-dH)/dV*10**-9\n",
    "    return P"
   ]
  },
  {
   "cell_type": "code",
   "execution_count": 4,
   "id": "8ff6fe65",
   "metadata": {},
   "outputs": [],
   "source": [
    "P = calculate_P(T,X)"
   ]
  },
  {
   "cell_type": "code",
   "execution_count": 5,
   "id": "747ede33",
   "metadata": {},
   "outputs": [
    {
     "data": {
      "image/png": "[encoded data removed]",
      "text/plain": [
       "<Figure size 720x432 with 1 Axes>"
      ]
     },
     "metadata": {
      "needs_background": "light"
     },
     "output_type": "display_data"
    }
   ],
   "source": [
    "plt.figure(figsize = (10,6))\n",
    "plt.plot(X,P)\n",
    "plt.axis([0,0.3,0,18])\n",
    "plt.xlabel('Mole fraction of $Fe_{2}SiO_{4}$')\n",
    "plt.ylabel('Pressure (GPa)')\n",
    "plt.text(0.12,16,'Wadsleyite',fontsize = 12)\n",
    "plt.text(0.13,6,'Olivine',fontsize = 12)\n",
    "plt.savefig('phase_xp.png')"
   ]
  }
 ],
 "metadata": {
  "kernelspec": {
   "display_name": "Python 3 (ipykernel)",
   "language": "python",
   "name": "python3"
  },
  "language_info": {
   "codemirror_mode": {
    "name": "ipython",
    "version": 3
   },
   "file_extension": ".py",
   "mimetype": "text/x-python",
   "name": "python",
   "nbconvert_exporter": "python",
   "pygments_lexer": "ipython3",
   "version": "3.9.12"
  }
 },
 "nbformat": 4,
 "nbformat_minor": 5
}
