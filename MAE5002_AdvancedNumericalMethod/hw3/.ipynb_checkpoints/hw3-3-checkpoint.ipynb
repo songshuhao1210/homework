{
 "cells": [
  {
   "cell_type": "markdown",
   "id": "e41b421c",
   "metadata": {},
   "source": [
    "# Hw 3-3"
   ]
  },
  {
   "cell_type": "code",
   "execution_count": 133,
   "id": "1d2594f0",
   "metadata": {},
   "outputs": [],
   "source": [
    "import numpy as np\n",
    "import matplotlib.pyplot as plt"
   ]
  },
  {
   "cell_type": "markdown",
   "id": "ac35c0cf",
   "metadata": {},
   "source": [
    "### parameters"
   ]
  },
  {
   "cell_type": "code",
   "execution_count": 134,
   "id": "2b1b94f9",
   "metadata": {},
   "outputs": [],
   "source": [
    "flag_err = 1e-10\n",
    "flag_max_iter = 100"
   ]
  },
  {
   "cell_type": "markdown",
   "id": "16628f8f",
   "metadata": {},
   "source": [
    "### function"
   ]
  },
  {
   "cell_type": "code",
   "execution_count": 135,
   "id": "70e51731",
   "metadata": {},
   "outputs": [],
   "source": [
    "def func(x,flag_func):\n",
    "    if flag_func == 1:\n",
    "        #return 4*pow(x,3)-2*x-8\n",
    "        return 2*pow(x,3)-x-4\n",
    "    return x-5 + (np.sin(x-np.cos(x))+0.4) * np.cos(x-np.cos(x)) * (1+np.sin(x))"
   ]
  },
  {
   "cell_type": "code",
   "execution_count": 136,
   "id": "3913aa03",
   "metadata": {},
   "outputs": [],
   "source": [
    "def func_origin(x,flag_func):\n",
    "    if flag_func == 1:\n",
    "        return pow(x,2)\n",
    "    return np.sin(x-np.cos(x))"
   ]
  },
  {
   "cell_type": "code",
   "execution_count": 137,
   "id": "fce93a1d",
   "metadata": {},
   "outputs": [],
   "source": [
    "def bisec(x_left,x_right,flag_err,flag_func,flag_max_iter):\n",
    "    for i in range(1,flag_max_iter):\n",
    "        x0 = (x_left+x_right)/2\n",
    "        if func(x0,flag_func)*func(x_right,flag_func)>0:\n",
    "            x_right = x0\n",
    "        elif func(x0,flag_func)*func(x_left,flag_func)>0:\n",
    "            x_left = x0\n",
    "        else:\n",
    "            x_right = x0\n",
    "            x_left = x0\n",
    "        err = np.abs(x_right-x_left)\n",
    "        print(f'iteration number={i:d} , error={err:.5E}, x={x0:.12f}')\n",
    "        if err < flag_err:\n",
    "            return x0\n",
    "    print('iteration reaches the limitation')\n",
    "    return x0"
   ]
  },
  {
   "cell_type": "code",
   "execution_count": 138,
   "id": "d485b1bb",
   "metadata": {},
   "outputs": [],
   "source": [
    "def plot_com(a,b,xx,x,flag_func):\n",
    "    \n",
    "    func_this = np.zeros(np.size(xx))\n",
    "    for x0 in xx:\n",
    "        func_this[xx == x0] = func_origin(x0,flag_func)\n",
    "    #plt.figure(figsize = (20,4))\n",
    "    ax = plt.gca()\n",
    "    ax.set_aspect(1)\n",
    "    plt.plot(xx,func_this)\n",
    "    plt.plot(x,func_origin(x,flag_func),'o')\n",
    "    plt.plot(a,b,'o')\n",
    "    plt.xlabel('x')\n",
    "    plt.ylabel('y')\n",
    "    plt.legend(('y = f(x)','A','B'),fontsize=12, numpoints=1,loc=3)\n",
    "    plt.savefig('figures/hw3-3_flag_'+str(flag_func)+'.png',dpi=300)"
   ]
  },
  {
   "cell_type": "markdown",
   "id": "6504bea4",
   "metadata": {},
   "source": [
    "### (a)"
   ]
  },
  {
   "cell_type": "code",
   "execution_count": 139,
   "id": "6928e8f3",
   "metadata": {},
   "outputs": [],
   "source": [
    "flag_func = 1 #1--a; 2--b\n",
    "\n",
    "a = 4\n",
    "b = 1\n",
    "x_left = 1\n",
    "x_right = 2\n",
    "xx = np.arange(-2,2,0.05)"
   ]
  },
  {
   "cell_type": "code",
   "execution_count": 140,
   "id": "06e0dcd9",
   "metadata": {},
   "outputs": [
    {
     "data": {
      "text/plain": [
       "-3"
      ]
     },
     "execution_count": 140,
     "metadata": {},
     "output_type": "execute_result"
    }
   ],
   "source": [
    "func(x_left,flag_func)"
   ]
  },
  {
   "cell_type": "code",
   "execution_count": 141,
   "id": "8cacca59",
   "metadata": {},
   "outputs": [
    {
     "data": {
      "text/plain": [
       "10"
      ]
     },
     "execution_count": 141,
     "metadata": {},
     "output_type": "execute_result"
    }
   ],
   "source": [
    "func(x_right,flag_func)"
   ]
  },
  {
   "cell_type": "code",
   "execution_count": 142,
   "id": "c53d83fd",
   "metadata": {
    "scrolled": false
   },
   "outputs": [
    {
     "name": "stdout",
     "output_type": "stream",
     "text": [
      "iteration number=1 , error=5.00000E-01, x=1.500000000000\n",
      "iteration number=2 , error=2.50000E-01, x=1.250000000000\n",
      "iteration number=3 , error=1.25000E-01, x=1.375000000000\n",
      "iteration number=4 , error=6.25000E-02, x=1.437500000000\n",
      "iteration number=5 , error=3.12500E-02, x=1.406250000000\n",
      "iteration number=6 , error=1.56250E-02, x=1.390625000000\n",
      "iteration number=7 , error=7.81250E-03, x=1.398437500000\n",
      "iteration number=8 , error=3.90625E-03, x=1.394531250000\n",
      "iteration number=9 , error=1.95312E-03, x=1.392578125000\n",
      "iteration number=10 , error=9.76562E-04, x=1.391601562500\n",
      "iteration number=11 , error=4.88281E-04, x=1.392089843750\n",
      "iteration number=12 , error=2.44141E-04, x=1.391845703125\n",
      "iteration number=13 , error=1.22070E-04, x=1.391723632812\n",
      "iteration number=14 , error=6.10352E-05, x=1.391784667969\n",
      "iteration number=15 , error=3.05176E-05, x=1.391754150391\n",
      "iteration number=16 , error=1.52588E-05, x=1.391769409180\n",
      "iteration number=17 , error=7.62939E-06, x=1.391761779785\n",
      "iteration number=18 , error=3.81470E-06, x=1.391765594482\n",
      "iteration number=19 , error=1.90735E-06, x=1.391767501831\n",
      "iteration number=20 , error=9.53674E-07, x=1.391768455505\n",
      "iteration number=21 , error=4.76837E-07, x=1.391768932343\n",
      "iteration number=22 , error=2.38419E-07, x=1.391768693924\n",
      "iteration number=23 , error=1.19209E-07, x=1.391768813133\n",
      "iteration number=24 , error=5.96046E-08, x=1.391768753529\n",
      "iteration number=25 , error=2.98023E-08, x=1.391768783331\n",
      "iteration number=26 , error=1.49012E-08, x=1.391768768430\n",
      "iteration number=27 , error=7.45058E-09, x=1.391768775880\n",
      "iteration number=28 , error=3.72529E-09, x=1.391768772155\n",
      "iteration number=29 , error=1.86265E-09, x=1.391768774018\n",
      "iteration number=30 , error=9.31323E-10, x=1.391768773086\n",
      "iteration number=31 , error=4.65661E-10, x=1.391768772621\n",
      "iteration number=32 , error=2.32831E-10, x=1.391768772388\n",
      "iteration number=33 , error=1.16415E-10, x=1.391768772271\n",
      "iteration number=34 , error=5.82077E-11, x=1.391768772213\n"
     ]
    },
    {
     "data": {
      "image/png": "[encoded data removed]",
      "text/plain": [
       "<Figure size 432x288 with 1 Axes>"
      ]
     },
     "metadata": {
      "needs_background": "light"
     },
     "output_type": "display_data"
    }
   ],
   "source": [
    "xc = bisec(x_left,x_right,flag_err,flag_func,flag_max_iter)\n",
    "plot_com(a,b,xx,xc,flag_func)"
   ]
  },
  {
   "cell_type": "code",
   "execution_count": 143,
   "id": "f78259b8",
   "metadata": {},
   "outputs": [
    {
     "data": {
      "text/plain": [
       "1.9370203153079888"
      ]
     },
     "execution_count": 143,
     "metadata": {},
     "output_type": "execute_result"
    }
   ],
   "source": [
    "yc = func_origin(x0,flag_func)\n",
    "yc"
   ]
  },
  {
   "cell_type": "code",
   "execution_count": 144,
   "id": "450a3689",
   "metadata": {},
   "outputs": [],
   "source": [
    "flag_func = 2 #1--a; 2--b\n",
    "\n",
    "a = 5\n",
    "b = -0.4\n",
    "x_left = 4\n",
    "x_right =8\n",
    "xx = np.arange(2.5,7.5,0.05)"
   ]
  },
  {
   "cell_type": "code",
   "execution_count": 145,
   "id": "bfde3639",
   "metadata": {},
   "outputs": [
    {
     "data": {
      "text/plain": [
       "-0.9914575252199727"
      ]
     },
     "execution_count": 145,
     "metadata": {},
     "output_type": "execute_result"
    }
   ],
   "source": [
    "func(x_left,flag_func)"
   ]
  },
  {
   "cell_type": "code",
   "execution_count": 146,
   "id": "61717a26",
   "metadata": {},
   "outputs": [
    {
     "data": {
      "text/plain": [
       "2.2236657863508302"
      ]
     },
     "execution_count": 146,
     "metadata": {},
     "output_type": "execute_result"
    }
   ],
   "source": [
    "func(x_right,flag_func)"
   ]
  },
  {
   "cell_type": "code",
   "execution_count": 147,
   "id": "8959724d",
   "metadata": {},
   "outputs": [
    {
     "name": "stdout",
     "output_type": "stream",
     "text": [
      "iteration number=1 , error=2.00000E+00, x=6.000000000000\n",
      "iteration number=2 , error=1.00000E+00, x=5.000000000000\n",
      "iteration number=3 , error=5.00000E-01, x=5.500000000000\n",
      "iteration number=4 , error=2.50000E-01, x=5.250000000000\n",
      "iteration number=5 , error=1.25000E-01, x=5.125000000000\n",
      "iteration number=6 , error=6.25000E-02, x=5.062500000000\n",
      "iteration number=7 , error=3.12500E-02, x=5.031250000000\n",
      "iteration number=8 , error=1.56250E-02, x=5.015625000000\n",
      "iteration number=9 , error=7.81250E-03, x=5.007812500000\n",
      "iteration number=10 , error=3.90625E-03, x=5.003906250000\n",
      "iteration number=11 , error=1.95312E-03, x=5.001953125000\n",
      "iteration number=12 , error=9.76562E-04, x=5.000976562500\n",
      "iteration number=13 , error=4.88281E-04, x=5.000488281250\n",
      "iteration number=14 , error=2.44141E-04, x=5.000244140625\n",
      "iteration number=15 , error=1.22070E-04, x=5.000122070312\n",
      "iteration number=16 , error=6.10352E-05, x=5.000061035156\n",
      "iteration number=17 , error=3.05176E-05, x=5.000091552734\n",
      "iteration number=18 , error=1.52588E-05, x=5.000106811523\n",
      "iteration number=19 , error=7.62939E-06, x=5.000099182129\n",
      "iteration number=20 , error=3.81470E-06, x=5.000095367432\n",
      "iteration number=21 , error=1.90735E-06, x=5.000097274780\n",
      "iteration number=22 , error=9.53674E-07, x=5.000098228455\n",
      "iteration number=23 , error=4.76837E-07, x=5.000097751617\n",
      "iteration number=24 , error=2.38419E-07, x=5.000097513199\n",
      "iteration number=25 , error=1.19209E-07, x=5.000097393990\n",
      "iteration number=26 , error=5.96046E-08, x=5.000097453594\n",
      "iteration number=27 , error=2.98023E-08, x=5.000097483397\n",
      "iteration number=28 , error=1.49012E-08, x=5.000097498298\n",
      "iteration number=29 , error=7.45058E-09, x=5.000097490847\n",
      "iteration number=30 , error=3.72529E-09, x=5.000097487122\n",
      "iteration number=31 , error=1.86265E-09, x=5.000097485259\n",
      "iteration number=32 , error=9.31323E-10, x=5.000097484328\n",
      "iteration number=33 , error=4.65661E-10, x=5.000097483862\n",
      "iteration number=34 , error=2.32831E-10, x=5.000097483629\n",
      "iteration number=35 , error=1.16415E-10, x=5.000097483513\n",
      "iteration number=36 , error=5.82077E-11, x=5.000097483571\n"
     ]
    },
    {
     "data": {
      "image/png": "[encoded data removed]",
      "text/plain": [
       "<Figure size 432x288 with 1 Axes>"
      ]
     },
     "metadata": {
      "needs_background": "light"
     },
     "output_type": "display_data"
    }
   ],
   "source": [
    "xc = bisec(x_left,x_right,flag_err,flag_func,flag_max_iter)\n",
    "plot_com(a,b,xx,xc,flag_func)"
   ]
  },
  {
   "cell_type": "code",
   "execution_count": 148,
   "id": "5f07f894",
   "metadata": {},
   "outputs": [
    {
     "data": {
      "text/plain": [
       "-0.9999921875392921"
      ]
     },
     "execution_count": 148,
     "metadata": {},
     "output_type": "execute_result"
    }
   ],
   "source": [
    "yc = func_origin(xc,flag_func)\n",
    "yc"
   ]
  }
 ],
 "metadata": {
  "kernelspec": {
   "display_name": "Python 3 (ipykernel)",
   "language": "python",
   "name": "python3"
  },
  "language_info": {
   "codemirror_mode": {
    "name": "ipython",
    "version": 3
   },
   "file_extension": ".py",
   "mimetype": "text/x-python",
   "name": "python",
   "nbconvert_exporter": "python",
   "pygments_lexer": "ipython3",
   "version": "3.9.12"
  }
 },
 "nbformat": 4,
 "nbformat_minor": 5
}
