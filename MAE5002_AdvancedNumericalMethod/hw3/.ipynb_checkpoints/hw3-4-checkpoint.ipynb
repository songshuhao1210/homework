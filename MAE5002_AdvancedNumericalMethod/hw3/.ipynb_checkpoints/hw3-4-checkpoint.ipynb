{
 "cells": [
  {
   "cell_type": "markdown",
   "id": "98857242",
   "metadata": {},
   "source": [
    "# hw3-4"
   ]
  },
  {
   "cell_type": "code",
   "execution_count": 6,
   "id": "3765eeb7",
   "metadata": {},
   "outputs": [],
   "source": [
    "import numpy as np"
   ]
  },
  {
   "cell_type": "markdown",
   "id": "0356c2ce",
   "metadata": {},
   "source": [
    "### parameters"
   ]
  },
  {
   "cell_type": "code",
   "execution_count": 7,
   "id": "2e39ccc7",
   "metadata": {},
   "outputs": [],
   "source": [
    "flag_err = 1e-10\n",
    "flag_max_iter = 100"
   ]
  },
  {
   "cell_type": "markdown",
   "id": "6ab1a1c2",
   "metadata": {},
   "source": [
    "### algorithm"
   ]
  },
  {
   "cell_type": "code",
   "execution_count": 8,
   "id": "74875105",
   "metadata": {},
   "outputs": [],
   "source": [
    "def func(x):\n",
    "    return x-(pow(x,3)-x-3)/(3*pow(x,2)-1)\n",
    "def func_origin(x):\n",
    "    return pow(x,3)-pow(x,2)-3"
   ]
  },
  {
   "cell_type": "code",
   "execution_count": 9,
   "id": "ff78c712",
   "metadata": {},
   "outputs": [],
   "source": [
    "def Newton(x,flag_err,flag_max_iter):\n",
    "    for i in range(1,flag_max_iter):\n",
    "        x0 = x\n",
    "        x = func(x0)\n",
    "        err = np.abs(x-x0)\n",
    "        print(f'iteration number={i:d} , error={err:.5E}, x={x0:.12f}')\n",
    "        if err < flag_err:\n",
    "            return x\n",
    "    print('iteration reaches the limitation')\n",
    "    return x0"
   ]
  },
  {
   "cell_type": "markdown",
   "id": "3c9f5bb3",
   "metadata": {},
   "source": [
    "### $P_{0}= 0$"
   ]
  },
  {
   "cell_type": "code",
   "execution_count": 10,
   "id": "30a6eff1",
   "metadata": {
    "scrolled": false
   },
   "outputs": [
    {
     "name": "stdout",
     "output_type": "stream",
     "text": [
      "iteration number=1 , error=3.00000E+00, x=0.000000000000\n",
      "iteration number=2 , error=1.03846E+00, x=-3.000000000000\n",
      "iteration number=3 , error=8.14363E-01, x=-1.961538461538\n",
      "iteration number=4 , error=1.14060E+00, x=-1.147175961404\n",
      "iteration number=5 , error=2.99381E+00, x=-0.006579371481\n",
      "iteration number=6 , error=1.03857E+00, x=-3.000389074071\n",
      "iteration number=7 , error=8.14388E-01, x=-1.961818175666\n",
      "iteration number=8 , error=1.14017E+00, x=-1.147430228482\n",
      "iteration number=9 , error=2.99322E+00, x=-0.007256247552\n",
      "iteration number=10 , error=1.03859E+00, x=-3.000473188773\n",
      "iteration number=11 , error=8.14393E-01, x=-1.961878646360\n",
      "iteration number=12 , error=1.14008E+00, x=-1.147485193217\n",
      "iteration number=13 , error=2.99309E+00, x=-0.007402501333\n",
      "iteration number=14 , error=1.03860E+00, x=-3.000492442917\n",
      "iteration number=15 , error=8.14395E-01, x=-1.961892488246\n",
      "iteration number=16 , error=1.14006E+00, x=-1.147497774545\n",
      "iteration number=17 , error=2.99306E+00, x=-0.007435975257\n",
      "iteration number=18 , error=1.03860E+00, x=-3.000496903654\n",
      "iteration number=19 , error=8.14395E-01, x=-1.961895695086\n",
      "iteration number=20 , error=1.14006E+00, x=-1.147500689330\n",
      "iteration number=21 , error=2.99305E+00, x=-0.007443730169\n",
      "iteration number=22 , error=1.03860E+00, x=-3.000497939940\n",
      "iteration number=23 , error=8.14395E-01, x=-1.961896440075\n",
      "iteration number=24 , error=1.14006E+00, x=-1.147501366471\n",
      "iteration number=25 , error=2.99305E+00, x=-0.007445531722\n",
      "iteration number=26 , error=1.03860E+00, x=-3.000498180835\n",
      "iteration number=27 , error=8.14395E-01, x=-1.961896613255\n",
      "iteration number=28 , error=1.14006E+00, x=-1.147501523879\n",
      "iteration number=29 , error=2.99305E+00, x=-0.007445950511\n",
      "iteration number=30 , error=1.03860E+00, x=-3.000498236842\n",
      "iteration number=31 , error=8.14395E-01, x=-1.961896653519\n",
      "iteration number=32 , error=1.14006E+00, x=-1.147501560476\n",
      "iteration number=33 , error=2.99305E+00, x=-0.007446047877\n",
      "iteration number=34 , error=1.03860E+00, x=-3.000498249863\n",
      "iteration number=35 , error=8.14395E-01, x=-1.961896662880\n",
      "iteration number=36 , error=1.14006E+00, x=-1.147501568984\n",
      "iteration number=37 , error=2.99305E+00, x=-0.007446070515\n",
      "iteration number=38 , error=1.03860E+00, x=-3.000498252891\n",
      "iteration number=39 , error=8.14395E-01, x=-1.961896665057\n",
      "iteration number=40 , error=1.14006E+00, x=-1.147501570963\n",
      "iteration number=41 , error=2.99305E+00, x=-0.007446075779\n",
      "iteration number=42 , error=1.03860E+00, x=-3.000498253595\n",
      "iteration number=43 , error=8.14395E-01, x=-1.961896665563\n",
      "iteration number=44 , error=1.14006E+00, x=-1.147501571423\n",
      "iteration number=45 , error=2.99305E+00, x=-0.007446077002\n",
      "iteration number=46 , error=1.03860E+00, x=-3.000498253759\n",
      "iteration number=47 , error=8.14395E-01, x=-1.961896665681\n",
      "iteration number=48 , error=1.14006E+00, x=-1.147501571530\n",
      "iteration number=49 , error=2.99305E+00, x=-0.007446077287\n",
      "iteration number=50 , error=1.03860E+00, x=-3.000498253797\n",
      "iteration number=51 , error=8.14395E-01, x=-1.961896665708\n",
      "iteration number=52 , error=1.14006E+00, x=-1.147501571555\n",
      "iteration number=53 , error=2.99305E+00, x=-0.007446077353\n",
      "iteration number=54 , error=1.03860E+00, x=-3.000498253806\n",
      "iteration number=55 , error=8.14395E-01, x=-1.961896665714\n",
      "iteration number=56 , error=1.14006E+00, x=-1.147501571560\n",
      "iteration number=57 , error=2.99305E+00, x=-0.007446077368\n",
      "iteration number=58 , error=1.03860E+00, x=-3.000498253808\n",
      "iteration number=59 , error=8.14395E-01, x=-1.961896665716\n",
      "iteration number=60 , error=1.14006E+00, x=-1.147501571562\n",
      "iteration number=61 , error=2.99305E+00, x=-0.007446077372\n",
      "iteration number=62 , error=1.03860E+00, x=-3.000498253808\n",
      "iteration number=63 , error=8.14395E-01, x=-1.961896665716\n",
      "iteration number=64 , error=1.14006E+00, x=-1.147501571562\n",
      "iteration number=65 , error=2.99305E+00, x=-0.007446077373\n",
      "iteration number=66 , error=1.03860E+00, x=-3.000498253808\n",
      "iteration number=67 , error=8.14395E-01, x=-1.961896665716\n",
      "iteration number=68 , error=1.14006E+00, x=-1.147501571562\n",
      "iteration number=69 , error=2.99305E+00, x=-0.007446077373\n",
      "iteration number=70 , error=1.03860E+00, x=-3.000498253808\n",
      "iteration number=71 , error=8.14395E-01, x=-1.961896665716\n",
      "iteration number=72 , error=1.14006E+00, x=-1.147501571562\n",
      "iteration number=73 , error=2.99305E+00, x=-0.007446077373\n",
      "iteration number=74 , error=1.03860E+00, x=-3.000498253808\n",
      "iteration number=75 , error=8.14395E-01, x=-1.961896665716\n",
      "iteration number=76 , error=1.14006E+00, x=-1.147501571562\n",
      "iteration number=77 , error=2.99305E+00, x=-0.007446077373\n",
      "iteration number=78 , error=1.03860E+00, x=-3.000498253808\n",
      "iteration number=79 , error=8.14395E-01, x=-1.961896665716\n",
      "iteration number=80 , error=1.14006E+00, x=-1.147501571562\n",
      "iteration number=81 , error=2.99305E+00, x=-0.007446077373\n",
      "iteration number=82 , error=1.03860E+00, x=-3.000498253808\n",
      "iteration number=83 , error=8.14395E-01, x=-1.961896665716\n",
      "iteration number=84 , error=1.14006E+00, x=-1.147501571562\n",
      "iteration number=85 , error=2.99305E+00, x=-0.007446077373\n",
      "iteration number=86 , error=1.03860E+00, x=-3.000498253808\n",
      "iteration number=87 , error=8.14395E-01, x=-1.961896665716\n",
      "iteration number=88 , error=1.14006E+00, x=-1.147501571562\n",
      "iteration number=89 , error=2.99305E+00, x=-0.007446077373\n",
      "iteration number=90 , error=1.03860E+00, x=-3.000498253808\n",
      "iteration number=91 , error=8.14395E-01, x=-1.961896665716\n",
      "iteration number=92 , error=1.14006E+00, x=-1.147501571562\n",
      "iteration number=93 , error=2.99305E+00, x=-0.007446077373\n",
      "iteration number=94 , error=1.03860E+00, x=-3.000498253808\n",
      "iteration number=95 , error=8.14395E-01, x=-1.961896665716\n",
      "iteration number=96 , error=1.14006E+00, x=-1.147501571562\n",
      "iteration number=97 , error=2.99305E+00, x=-0.007446077373\n",
      "iteration number=98 , error=1.03860E+00, x=-3.000498253808\n",
      "iteration number=99 , error=8.14395E-01, x=-1.961896665716\n",
      "iteration reaches the limitation\n"
     ]
    }
   ],
   "source": [
    "x0 = 0\n",
    "x = Newton(x0,flag_err,flag_max_iter)"
   ]
  },
  {
   "cell_type": "markdown",
   "id": "1837d8db",
   "metadata": {},
   "source": [
    "### $P_{0}= 2$"
   ]
  },
  {
   "cell_type": "code",
   "execution_count": 11,
   "id": "05dbcc74",
   "metadata": {},
   "outputs": [
    {
     "name": "stdout",
     "output_type": "stream",
     "text": [
      "iteration number=1 , error=2.72727E-01, x=2.000000000000\n",
      "iteration number=2 , error=5.35816E-02, x=1.727272727273\n",
      "iteration number=3 , error=1.98860E-03, x=1.673691173691\n",
      "iteration number=4 , error=2.68809E-06, x=1.671702569748\n",
      "iteration number=5 , error=4.90807E-12, x=1.671699881662\n"
     ]
    }
   ],
   "source": [
    "x0 = 2\n",
    "x = Newton(x0,flag_err,flag_max_iter)"
   ]
  }
 ],
 "metadata": {
  "kernelspec": {
   "display_name": "Python 3 (ipykernel)",
   "language": "python",
   "name": "python3"
  },
  "language_info": {
   "codemirror_mode": {
    "name": "ipython",
    "version": 3
   },
   "file_extension": ".py",
   "mimetype": "text/x-python",
   "name": "python",
   "nbconvert_exporter": "python",
   "pygments_lexer": "ipython3",
   "version": "3.9.12"
  }
 },
 "nbformat": 4,
 "nbformat_minor": 5
}
