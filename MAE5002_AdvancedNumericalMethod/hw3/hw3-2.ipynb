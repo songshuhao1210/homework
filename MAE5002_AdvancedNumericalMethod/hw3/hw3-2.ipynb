{
 "cells": [
  {
   "cell_type": "markdown",
   "id": "8ed2f4ca",
   "metadata": {},
   "source": [
    "# hw3-2"
   ]
  },
  {
   "cell_type": "code",
   "execution_count": 16,
   "id": "8f5d098c",
   "metadata": {},
   "outputs": [],
   "source": [
    "import numpy as np"
   ]
  },
  {
   "cell_type": "markdown",
   "id": "d1c2121d",
   "metadata": {},
   "source": [
    "### parameters"
   ]
  },
  {
   "cell_type": "code",
   "execution_count": 17,
   "id": "beda24bd",
   "metadata": {},
   "outputs": [],
   "source": [
    "flag_err = 1e-10  # error flag\n",
    "flag_max_iter = 1000 # max iteration number\n",
    "P = 300           # monthly payment\n",
    "N = 360           # total months\n",
    "S = 600000        # total deposit\n",
    "x_left = 0.01\n",
    "x_right = 0.5"
   ]
  },
  {
   "cell_type": "markdown",
   "id": "da2f44ea",
   "metadata": {},
   "source": [
    "### function"
   ]
  },
  {
   "cell_type": "code",
   "execution_count": 18,
   "id": "ad6e14e5",
   "metadata": {},
   "outputs": [],
   "source": [
    "def func(P,N,S,x):\n",
    "    \n",
    "    return 12*P/x*(pow(1+x/12,N)-1)-S"
   ]
  },
  {
   "cell_type": "code",
   "execution_count": 19,
   "id": "6d190a26",
   "metadata": {},
   "outputs": [],
   "source": [
    "def bisec(P,N,S,flag_err,flag_max_iter,x_left,x_right):\n",
    "    for i in range(1,flag_max_iter):\n",
    "        x0 = (x_left+x_right)/2\n",
    "        if func(P,N,S,x0)*func(P,N,S,x_right)>0:\n",
    "            x_right = x0\n",
    "        elif func(P,N,S,x0)*func(P,N,S,x_left)>0:\n",
    "            x_left = x0\n",
    "        else:\n",
    "            x_right = x0\n",
    "            x_left = x0\n",
    "        err = np.abs(x_right-x_left)\n",
    "        print(f'iteration number={i:d} , error={err:.5E}, I={x0:.12f}')\n",
    "        if err < flag_err:\n",
    "            return x0\n",
    "    print('iteration reaches the limitation')\n",
    "    return x0"
   ]
  },
  {
   "cell_type": "code",
   "execution_count": 20,
   "id": "92c2ac74",
   "metadata": {},
   "outputs": [
    {
     "data": {
      "text/plain": [
       "-474111.5354014977"
      ]
     },
     "execution_count": 20,
     "metadata": {},
     "output_type": "execute_result"
    }
   ],
   "source": [
    "func(P,N,S,x_left)"
   ]
  },
  {
   "cell_type": "code",
   "execution_count": 21,
   "id": "074af205",
   "metadata": {},
   "outputs": [
    {
     "data": {
      "text/plain": [
       "17364945174.736988"
      ]
     },
     "execution_count": 21,
     "metadata": {},
     "output_type": "execute_result"
    }
   ],
   "source": [
    "func(P,N,S,x_right)"
   ]
  },
  {
   "cell_type": "code",
   "execution_count": 22,
   "id": "b8da7595",
   "metadata": {},
   "outputs": [
    {
     "name": "stdout",
     "output_type": "stream",
     "text": [
      "iteration number=1 , error=2.45000E-01, I=0.255000000000\n",
      "iteration number=2 , error=1.22500E-01, I=0.132500000000\n",
      "iteration number=3 , error=6.12500E-02, I=0.071250000000\n",
      "iteration number=4 , error=3.06250E-02, I=0.101875000000\n",
      "iteration number=5 , error=1.53125E-02, I=0.086562500000\n",
      "iteration number=6 , error=7.65625E-03, I=0.094218750000\n",
      "iteration number=7 , error=3.82812E-03, I=0.098046875000\n",
      "iteration number=8 , error=1.91406E-03, I=0.096132812500\n",
      "iteration number=9 , error=9.57031E-04, I=0.095175781250\n",
      "iteration number=10 , error=4.78516E-04, I=0.094697265625\n",
      "iteration number=11 , error=2.39258E-04, I=0.094458007813\n",
      "iteration number=12 , error=1.19629E-04, I=0.094338378906\n",
      "iteration number=13 , error=5.98145E-05, I=0.094278564453\n",
      "iteration number=14 , error=2.99072E-05, I=0.094248657227\n",
      "iteration number=15 , error=1.49536E-05, I=0.094233703613\n",
      "iteration number=16 , error=7.47681E-06, I=0.094226226807\n",
      "iteration number=17 , error=3.73840E-06, I=0.094222488403\n",
      "iteration number=18 , error=1.86920E-06, I=0.094220619202\n",
      "iteration number=19 , error=9.34601E-07, I=0.094221553802\n",
      "iteration number=20 , error=4.67300E-07, I=0.094222021103\n",
      "iteration number=21 , error=2.33650E-07, I=0.094222254753\n",
      "iteration number=22 , error=1.16825E-07, I=0.094222371578\n",
      "iteration number=23 , error=5.84126E-08, I=0.094222429991\n",
      "iteration number=24 , error=2.92063E-08, I=0.094222400784\n",
      "iteration number=25 , error=1.46031E-08, I=0.094222386181\n",
      "iteration number=26 , error=7.30157E-09, I=0.094222393483\n",
      "iteration number=27 , error=3.65078E-09, I=0.094222389832\n",
      "iteration number=28 , error=1.82539E-09, I=0.094222391658\n",
      "iteration number=29 , error=9.12696E-10, I=0.094222390745\n",
      "iteration number=30 , error=4.56348E-10, I=0.094222391201\n",
      "iteration number=31 , error=2.28174E-10, I=0.094222390973\n",
      "iteration number=32 , error=1.14087E-10, I=0.094222391087\n",
      "iteration number=33 , error=5.70435E-11, I=0.094222391030\n"
     ]
    }
   ],
   "source": [
    "x0 = bisec(P,N,S,flag_err,flag_max_iter,x_left,x_right)"
   ]
  }
 ],
 "metadata": {
  "kernelspec": {
   "display_name": "Python 3 (ipykernel)",
   "language": "python",
   "name": "python3"
  },
  "language_info": {
   "codemirror_mode": {
    "name": "ipython",
    "version": 3
   },
   "file_extension": ".py",
   "mimetype": "text/x-python",
   "name": "python",
   "nbconvert_exporter": "python",
   "pygments_lexer": "ipython3",
   "version": "3.9.12"
  }
 },
 "nbformat": 4,
 "nbformat_minor": 5
}
