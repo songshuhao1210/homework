{
 "cells": [
  {
   "cell_type": "markdown",
   "id": "5ae980a5",
   "metadata": {},
   "source": [
    "# hw3-5"
   ]
  },
  {
   "cell_type": "code",
   "execution_count": 19,
   "id": "7a17f9b4",
   "metadata": {},
   "outputs": [],
   "source": [
    "import numpy as np"
   ]
  },
  {
   "cell_type": "code",
   "execution_count": 20,
   "id": "4faf7bd5",
   "metadata": {},
   "outputs": [],
   "source": [
    "flag_err = 1e-10\n",
    "flag_max_iter = 100"
   ]
  },
  {
   "cell_type": "code",
   "execution_count": 21,
   "id": "14e69740",
   "metadata": {},
   "outputs": [],
   "source": [
    "def func(x):\n",
    "    \n",
    "    return np.pi*(-4/3*pow(x,3)+4*x-4/3)"
   ]
  },
  {
   "cell_type": "code",
   "execution_count": 22,
   "id": "4037c76d",
   "metadata": {},
   "outputs": [],
   "source": [
    "def bisec(flag_err,flag_max_iter,x_left,x_right):\n",
    "    for i in range(1,flag_max_iter):\n",
    "        x0 = (x_left+x_right)/2\n",
    "        if func(x0)*func(x_right)>0:\n",
    "            x_right = x0\n",
    "        elif func(x0)*func(x_left)>0:\n",
    "            x_left = x0\n",
    "        else:\n",
    "            x_right = x0\n",
    "            x_left = x0\n",
    "        err = np.abs(x_right-x_left)\n",
    "        print(f'iteration number={i:d} , error={err:.5E}, x0={x0:.12f}')\n",
    "        if err < flag_err:\n",
    "            return x0\n",
    "    print('iteration reaches the limitation')\n",
    "    return x0"
   ]
  },
  {
   "cell_type": "code",
   "execution_count": 23,
   "id": "9f36c3e0",
   "metadata": {},
   "outputs": [
    {
     "data": {
      "text/plain": [
       "-4.1887902047863905"
      ]
     },
     "execution_count": 23,
     "metadata": {},
     "output_type": "execute_result"
    }
   ],
   "source": [
    "x_left = 0\n",
    "func(x_left)"
   ]
  },
  {
   "cell_type": "code",
   "execution_count": 24,
   "id": "d68f6fb4",
   "metadata": {},
   "outputs": [
    {
     "data": {
      "text/plain": [
       "4.188790204786392"
      ]
     },
     "execution_count": 24,
     "metadata": {},
     "output_type": "execute_result"
    }
   ],
   "source": [
    "x_right = 1\n",
    "func(x_right)"
   ]
  },
  {
   "cell_type": "code",
   "execution_count": 25,
   "id": "295bbb1c",
   "metadata": {
    "scrolled": false
   },
   "outputs": [
    {
     "name": "stdout",
     "output_type": "stream",
     "text": [
      "iteration number=1 , error=5.00000E-01, x0=0.500000000000\n",
      "iteration number=2 , error=2.50000E-01, x0=0.250000000000\n",
      "iteration number=3 , error=1.25000E-01, x0=0.375000000000\n",
      "iteration number=4 , error=6.25000E-02, x0=0.312500000000\n",
      "iteration number=5 , error=3.12500E-02, x0=0.343750000000\n",
      "iteration number=6 , error=1.56250E-02, x0=0.359375000000\n",
      "iteration number=7 , error=7.81250E-03, x0=0.351562500000\n",
      "iteration number=8 , error=3.90625E-03, x0=0.347656250000\n",
      "iteration number=9 , error=1.95312E-03, x0=0.345703125000\n",
      "iteration number=10 , error=9.76562E-04, x0=0.346679687500\n",
      "iteration number=11 , error=4.88281E-04, x0=0.347167968750\n",
      "iteration number=12 , error=2.44141E-04, x0=0.347412109375\n",
      "iteration number=13 , error=1.22070E-04, x0=0.347290039062\n",
      "iteration number=14 , error=6.10352E-05, x0=0.347351074219\n",
      "iteration number=15 , error=3.05176E-05, x0=0.347320556641\n",
      "iteration number=16 , error=1.52588E-05, x0=0.347305297852\n",
      "iteration number=17 , error=7.62939E-06, x0=0.347297668457\n",
      "iteration number=18 , error=3.81470E-06, x0=0.347293853760\n",
      "iteration number=19 , error=1.90735E-06, x0=0.347295761108\n",
      "iteration number=20 , error=9.53674E-07, x0=0.347296714783\n",
      "iteration number=21 , error=4.76837E-07, x0=0.347296237946\n",
      "iteration number=22 , error=2.38419E-07, x0=0.347296476364\n",
      "iteration number=23 , error=1.19209E-07, x0=0.347296357155\n",
      "iteration number=24 , error=5.96046E-08, x0=0.347296297550\n",
      "iteration number=25 , error=2.98023E-08, x0=0.347296327353\n",
      "iteration number=26 , error=1.49012E-08, x0=0.347296342254\n",
      "iteration number=27 , error=7.45058E-09, x0=0.347296349704\n",
      "iteration number=28 , error=3.72529E-09, x0=0.347296353430\n",
      "iteration number=29 , error=1.86265E-09, x0=0.347296355292\n",
      "iteration number=30 , error=9.31323E-10, x0=0.347296356224\n",
      "iteration number=31 , error=4.65661E-10, x0=0.347296355758\n",
      "iteration number=32 , error=2.32831E-10, x0=0.347296355525\n",
      "iteration number=33 , error=1.16415E-10, x0=0.347296355409\n",
      "iteration number=34 , error=5.82077E-11, x0=0.347296355350\n"
     ]
    }
   ],
   "source": [
    "x = bisec(flag_err,flag_max_iter,x_left,x_right)"
   ]
  },
  {
   "cell_type": "code",
   "execution_count": 26,
   "id": "3c802988",
   "metadata": {},
   "outputs": [],
   "source": [
    "h = 1-x\n",
    "aa = np.pi*h**2*(1-h/3)"
   ]
  },
  {
   "cell_type": "code",
   "execution_count": 27,
   "id": "43ac08f5",
   "metadata": {
    "scrolled": true
   },
   "outputs": [
    {
     "data": {
      "text/plain": [
       "1.8286705483205878e-10"
      ]
     },
     "execution_count": 27,
     "metadata": {},
     "output_type": "execute_result"
    }
   ],
   "source": [
    "4/3*np.pi - 4*aa"
   ]
  }
 ],
 "metadata": {
  "kernelspec": {
   "display_name": "Python 3 (ipykernel)",
   "language": "python",
   "name": "python3"
  },
  "language_info": {
   "codemirror_mode": {
    "name": "ipython",
    "version": 3
   },
   "file_extension": ".py",
   "mimetype": "text/x-python",
   "name": "python",
   "nbconvert_exporter": "python",
   "pygments_lexer": "ipython3",
   "version": "3.9.12"
  }
 },
 "nbformat": 4,
 "nbformat_minor": 5
}
