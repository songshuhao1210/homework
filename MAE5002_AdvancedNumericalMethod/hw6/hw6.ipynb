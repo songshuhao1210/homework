{
 "cells": [
  {
   "cell_type": "code",
   "execution_count": 54,
   "metadata": {},
   "outputs": [],
   "source": [
    "import numpy as np\n",
    "import matplotlib.pyplot as plt"
   ]
  },
  {
   "attachments": {},
   "cell_type": "markdown",
   "metadata": {},
   "source": [
    "Q5"
   ]
  },
  {
   "cell_type": "code",
   "execution_count": 55,
   "metadata": {},
   "outputs": [],
   "source": [
    "h = 0.05\n",
    "\n",
    "a = 0\n",
    "b = 5"
   ]
  },
  {
   "cell_type": "code",
   "execution_count": 56,
   "metadata": {},
   "outputs": [],
   "source": [
    "def f(y,t):\n",
    "    return -y+t+1"
   ]
  },
  {
   "cell_type": "code",
   "execution_count": 57,
   "metadata": {},
   "outputs": [],
   "source": [
    "tt = np.arange(a,b+h,h)\n",
    "yy = np.zeros(len(tt))\n",
    "yy[0] = 1\n",
    "for i in range(1,len(tt)):\n",
    "    yy[i] = yy[i-1] + h*f(yy[i-1],tt[i-1])"
   ]
  },
  {
   "cell_type": "code",
   "execution_count": 58,
   "metadata": {},
   "outputs": [
    {
     "data": {
      "text/plain": [
       "5.005920529220334"
      ]
     },
     "execution_count": 58,
     "metadata": {},
     "output_type": "execute_result"
    }
   ],
   "source": [
    "yy[-1]"
   ]
  },
  {
   "cell_type": "code",
   "execution_count": 59,
   "metadata": {},
   "outputs": [
    {
     "data": {
      "text/plain": [
       "5.006737946999086"
      ]
     },
     "execution_count": 59,
     "metadata": {},
     "output_type": "execute_result"
    }
   ],
   "source": [
    "np.exp(-b)+b"
   ]
  },
  {
   "cell_type": "code",
   "execution_count": 60,
   "metadata": {},
   "outputs": [
    {
     "data": {
      "text/plain": [
       "101"
      ]
     },
     "execution_count": 60,
     "metadata": {},
     "output_type": "execute_result"
    }
   ],
   "source": [
    "len(yy)"
   ]
  },
  {
   "attachments": {},
   "cell_type": "markdown",
   "metadata": {},
   "source": [
    "Q16"
   ]
  },
  {
   "cell_type": "code",
   "execution_count": 61,
   "metadata": {},
   "outputs": [],
   "source": [
    "def f(t,x):\n",
    "    return t**2-x"
   ]
  },
  {
   "cell_type": "code",
   "execution_count": 62,
   "metadata": {},
   "outputs": [],
   "source": [
    "h = 0.1\n",
    "n = 4"
   ]
  },
  {
   "cell_type": "code",
   "execution_count": 63,
   "metadata": {},
   "outputs": [
    {
     "name": "stdout",
     "output_type": "stream",
     "text": [
      "0\n",
      "f1 =  -1 f2 =  -0.9475 f3 =  -0.9501250000000001 f4 =  -0.8949874999999999 y0 =  0.9051627083333333\n",
      "1\n",
      "f1 =  -0.8951627083333333 f2 =  -0.8379045729166668 f3 =  -0.8407674796875 f4 =  -0.7810859603645833 y0 =  0.8212694954348958\n",
      "2\n",
      "f1 =  -0.7812694954348958 f2 =  -0.719706020663151 f3 =  -0.7227841944017382 f4 =  -0.658991075994722 y0 =  0.7491821454089058\n",
      "3\n",
      "f1 =  -0.6591821454089057 f2 =  -0.5937230381384605 f3 =  -0.5969959935019827 f4 =  -0.5294825460587075 y0 =  0.6896804328297641\n"
     ]
    }
   ],
   "source": [
    "t0 = 0\n",
    "y0 = 1\n",
    "for k in range(n):\n",
    "    print(k)\n",
    "    f1 = f(t0,y0)\n",
    "    f2 = f(t0+h/2,y0+h*f1/2)\n",
    "    f3 = f(t0+h/2,y0+h*f2/2)\n",
    "    f4 = f(t0+h,y0+h*f3)\n",
    "    y0 = y0 + h*(f1+2*f2+2*f3+f4)/6\n",
    "    t0 = t0 + h\n",
    "    print('f1 = ',f1,'f2 = ',f2,'f3 = ',f3,'f4 = ',f4,'y0 = ',y0) "
   ]
  },
  {
   "attachments": {},
   "cell_type": "markdown",
   "metadata": {},
   "source": [
    "Q19"
   ]
  },
  {
   "cell_type": "code",
   "execution_count": 64,
   "metadata": {},
   "outputs": [],
   "source": [
    "m = 4\n",
    "N = 2\n",
    "k = 0.1\n",
    "b = 2\n",
    "a = 0\n",
    "c = 1"
   ]
  },
  {
   "cell_type": "code",
   "execution_count": 65,
   "metadata": {},
   "outputs": [],
   "source": [
    "h = (b-a)/m\n",
    "r = k*c**2/h**2"
   ]
  },
  {
   "cell_type": "code",
   "execution_count": 66,
   "metadata": {},
   "outputs": [],
   "source": [
    "u = np.zeros((N+1,m+1))\n",
    "u[0] = np.sin(np.pi/2*np.arange(m+1)*h)"
   ]
  },
  {
   "cell_type": "code",
   "execution_count": 67,
   "metadata": {},
   "outputs": [],
   "source": [
    "def C_N(u0,r):\n",
    "    size = len(u0)-2\n",
    "    u1 = np.zeros(len(u0))\n",
    "    A = np.zeros((size,size))\n",
    "    b = np.zeros(size)\n",
    "    for i in range(size):\n",
    "        A[i,i] = 2+2*r\n",
    "        if i>0:\n",
    "            A[i,i-1] = -r\n",
    "        if i<size-1:\n",
    "            A[i,i+1] = -r\n",
    "        #u1 = np.linalg.solve(A,u0[1:-1])\n",
    "        b[i] = (2-2*r)*u0[i+1] + r*u0[i] + r*u0[i+2]\n",
    "    u1[1:-1] = np.linalg.solve(A,b)\n",
    "    return u1"
   ]
  },
  {
   "cell_type": "code",
   "execution_count": 68,
   "metadata": {},
   "outputs": [
    {
     "name": "stdout",
     "output_type": "stream",
     "text": [
      "[0.         0.55879694 0.7902582  0.55879694 0.        ]\n",
      "[0.         0.44159386 0.62450803 0.44159386 0.        ]\n"
     ]
    }
   ],
   "source": [
    "for i in range(1,N+1):\n",
    "    u[i] = C_N(u[i-1],r)\n",
    "    print(u[i])"
   ]
  }
 ],
 "metadata": {
  "kernelspec": {
   "display_name": "base",
   "language": "python",
   "name": "python3"
  },
  "language_info": {
   "codemirror_mode": {
    "name": "ipython",
    "version": 3
   },
   "file_extension": ".py",
   "mimetype": "text/x-python",
   "name": "python",
   "nbconvert_exporter": "python",
   "pygments_lexer": "ipython3",
   "version": "3.10.9"
  },
  "orig_nbformat": 4
 },
 "nbformat": 4,
 "nbformat_minor": 2
}
