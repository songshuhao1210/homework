{
 "cells": [
  {
   "cell_type": "code",
   "execution_count": 71,
   "metadata": {},
   "outputs": [],
   "source": [
    "import numpy as np\n",
    "import matplotlib.pyplot as plt\n",
    "from sympy import *\n",
    "from scipy import sparse"
   ]
  },
  {
   "attachments": {},
   "cell_type": "markdown",
   "metadata": {},
   "source": [
    "### Settings"
   ]
  },
  {
   "cell_type": "code",
   "execution_count": 72,
   "metadata": {},
   "outputs": [],
   "source": [
    "def func(xx):\n",
    "    return 1/(1+xx**2)"
   ]
  },
  {
   "cell_type": "code",
   "execution_count": 73,
   "metadata": {},
   "outputs": [],
   "source": [
    "def Lagrange(xx,yy,x):\n",
    "    n = len(xx)\n",
    "    y = 0\n",
    "    for i in range(n):\n",
    "        L = 1\n",
    "        for j in range(n):\n",
    "            if i == j:\n",
    "                continue\n",
    "            else:\n",
    "                L *= (x-xx[j])/(xx[i]-xx[j])\n",
    "        y += yy[i]*L\n",
    "    return y"
   ]
  },
  {
   "cell_type": "code",
   "execution_count": 74,
   "metadata": {},
   "outputs": [],
   "source": [
    "def Cubic_Spline(xx,yy): \n",
    "    n = len(xx)-1\n",
    "    y = 0\n",
    "    H = np.zeros([n+1,n+1])\n",
    "    u = np.zeros([n+1,1])\n",
    "\n",
    "    u[0][0] = 0\n",
    "    u[n][0] = 0\n",
    "    H[0][0] = 1\n",
    "    H[n][n] = 1\n",
    "    for k in range(1,n):\n",
    "        hk_1 = xx[k]-xx[k-1]\n",
    "        hk = xx[k+1]-xx[k]\n",
    "        dk = (yy[k+1]-yy[k])/hk\n",
    "        dk1 = (yy[k]-yy[k-1])/hk_1\n",
    "        u[k][0] = 6*(dk-dk1)\n",
    "        H[k][k-1] = hk_1\n",
    "        H[k][k+1] = hk      \n",
    "        H[k][k] = 2*(hk_1 + hk)\n",
    "\n",
    "    m = np.matmul(np.linalg.inv(H),u)\n",
    "\n",
    "    S = np.zeros([n,4])\n",
    "    for k in range(n):\n",
    "        hk = xx[k+1]-xx[k]\n",
    "        dk = (yy[k+1]-yy[k])/hk\n",
    "\n",
    "        S[k][0] = yy[k]\n",
    "        S[k][1] = dk - hk*(2*m[k]+m[k+1])/6\n",
    "        S[k][2] = m[k]/2\n",
    "        S[k][3] = (m[k+1]-m[k])/6/hk\n",
    "\n",
    "    return S"
   ]
  },
  {
   "cell_type": "code",
   "execution_count": 75,
   "metadata": {},
   "outputs": [],
   "source": [
    "def return_cubic(ax,xx,yy,S,x):\n",
    "    n = len(xx)-1\n",
    "    for k in range(n):\n",
    "        xxx = np.linspace(xx[k],xx[k+1],20)\n",
    "        y = S[k][0] + S[k][1]*(x-xx[k]) + S[k][2]*(x-xx[k])**2 + S[k][3]*(x-xx[k])**3 \n",
    "        yyy = np.zeros(np.size(xxx))\n",
    "        for i in range(len(xxx)):\n",
    "            yyy[i] = y.subs(x,xxx[i])\n",
    "        if k == n-1:\n",
    "            ax.plot(xxx,yyy,'r--',label='Cubic Spline')\n",
    "        ax.plot(xxx,yyy,'r--')"
   ]
  },
  {
   "cell_type": "code",
   "execution_count": 76,
   "metadata": {},
   "outputs": [],
   "source": [
    "n = 9"
   ]
  },
  {
   "cell_type": "code",
   "execution_count": 77,
   "metadata": {},
   "outputs": [],
   "source": [
    "h = 10/n\n",
    "xx = np.arange(-5,5+h,h)\n",
    "yy = func(xx)\n",
    "x = symbols('x')"
   ]
  },
  {
   "cell_type": "code",
   "execution_count": 78,
   "metadata": {},
   "outputs": [],
   "source": [
    "f1 = Lagrange(xx,yy,x)"
   ]
  },
  {
   "cell_type": "code",
   "execution_count": 79,
   "metadata": {},
   "outputs": [],
   "source": [
    "S = Cubic_Spline(xx,yy)"
   ]
  },
  {
   "cell_type": "code",
   "execution_count": 80,
   "metadata": {},
   "outputs": [
    {
     "data": {
      "image/png": "[encoded data removed]",
      "text/plain": [
       "<Figure size 504x288 with 1 Axes>"
      ]
     },
     "metadata": {
      "needs_background": "light"
     },
     "output_type": "display_data"
    }
   ],
   "source": [
    "fig,ax = plt.subplots(ncols=1,figsize=(7,4))\n",
    "xxx = np.linspace(-5,5,101)\n",
    "yyy = np.zeros(np.size(xxx))\n",
    "for i in range(len(xxx)):\n",
    "    yyy[i] = f1.subs(x,xxx[i])\n",
    "ax.plot(xxx,yyy,'g--',label = 'Lagrange')\n",
    "return_cubic(ax,xx,yy,S,x)\n",
    "ax.plot(xxx,func(xxx),'b-',label = 'Analytical')\n",
    "ax.set_xlim([-5,5])\n",
    "ax.legend()\n",
    "ax.set_title('Interval n = '+str(n))\n",
    "plt.savefig('n='+str(n)+'.png')"
   ]
  }
 ],
 "metadata": {
  "kernelspec": {
   "display_name": "base",
   "language": "python",
   "name": "python3"
  },
  "language_info": {
   "codemirror_mode": {
    "name": "ipython",
    "version": 3
   },
   "file_extension": ".py",
   "mimetype": "text/x-python",
   "name": "python",
   "nbconvert_exporter": "python",
   "pygments_lexer": "ipython3",
   "version": "3.9.12"
  },
  "orig_nbformat": 4
 },
 "nbformat": 4,
 "nbformat_minor": 2
}
